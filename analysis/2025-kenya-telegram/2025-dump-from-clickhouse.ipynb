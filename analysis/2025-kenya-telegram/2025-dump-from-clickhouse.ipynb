{
 "cells": [
  {
   "cell_type": "code",
   "execution_count": 1,
   "id": "8cd37757-2635-4000-93c1-ab45daac3bae",
   "metadata": {},
   "outputs": [],
   "source": [
    "import numpy as np\n",
    "import pandas as pd\n",
    "\n",
    "from tqdm import tqdm\n",
    "\n",
    "tqdm.pandas()"
   ]
  },
  {
   "cell_type": "code",
   "execution_count": 2,
   "id": "4e67c457-f38c-4d9e-acb7-0ac96e577570",
   "metadata": {},
   "outputs": [],
   "source": [
    "from clickhouse_driver import Client as Clickhouse\n",
    "\n",
    "def click_query(q, **kw):\n",
    "    click = Clickhouse(\"localhost\")\n",
    "    return click.query_dataframe(q, params=kw)"
   ]
  },
  {
   "cell_type": "code",
   "execution_count": 3,
   "id": "2c5d8cba-6736-4abd-9b42-f1e08273b787",
   "metadata": {},
   "outputs": [
    {
     "name": "stdout",
     "output_type": "stream",
     "text": [
      "CPU times: user 32.8 s, sys: 990 ms, total: 33.8 s\n",
      "Wall time: 1min 9s\n"
     ]
    }
   ],
   "source": [
    "%%time\n",
    "params = [\n",
    "    ('2024-10-15', '2024-11-30', 'telegram.org', 'web_connectivity'),\n",
    "    ('2024-10-15', '2024-11-30', None, 'telegram'),\n",
    "    ('2023-10-15', '2023-11-30', 'telegram.org', 'web_connectivity'),\n",
    "    ('2023-10-15', '2023-11-30', None, 'telegram'),\n",
    "]\n",
    "for st, et, domain, tn in params:\n",
    "    sq = {\n",
    "        \"measurement_start_day\": st,\n",
    "        \"measurement_end_day\": et,\n",
    "        \"cc_list\": ['KE'],\n",
    "        \"test_name\": tn,\n",
    "    }\n",
    "    fn = f\"{st[:4]}-KE-{tn}\"\n",
    "    q = \"\"\"\n",
    "    WITH multiIf(\n",
    "        dns_failure IS NOT NULL, tuple('dns', dns_failure),\n",
    "        tcp_failure IS NOT NULL, tuple('tcp', tcp_failure),\n",
    "        tls_failure IS NOT NULL, tuple('tls', tls_failure),\n",
    "        http_failure IS NOT NULL, tuple('https', http_failure),\n",
    "        tuple('ok', '')\n",
    "    ) as failure\n",
    "    SELECT \n",
    "    report_id,\n",
    "    input,\n",
    "    test_name,\n",
    "    test_version,\n",
    "    measurement_uid,\n",
    "    probe_cc,\n",
    "    probe_asn,\n",
    "    probe_as_org_name,\n",
    "    probe_as_cc,\n",
    "    network_type,\n",
    "    measurement_start_time,\n",
    "    hostname,\n",
    "    ip,\n",
    "    port,\n",
    "    ip_asn,\n",
    "    ip_as_org_name,\n",
    "    resolver_ip,\n",
    "    resolver_cc,\n",
    "    resolver_asn,\n",
    "    resolver_as_org_name,\n",
    "    resolver_as_cc,\n",
    "    dns_engine,\n",
    "    dns_failure,\n",
    "    dns_answer,\n",
    "    tcp_success,\n",
    "    tcp_failure,\n",
    "    tls_handshake_time,\n",
    "    tls_handshake_read_count,\n",
    "    tls_handshake_write_count,\n",
    "    tls_handshake_read_bytes,\n",
    "    tls_handshake_write_bytes,\n",
    "    tls_handshake_last_operation,\n",
    "    tls_cipher_suite IS NOT NULL as tls_success,\n",
    "    tls_is_certificate_valid,\n",
    "    tls_end_entity_certificate_subject,\n",
    "    tls_end_entity_certificate_subject_common_name,\n",
    "    tls_end_entity_certificate_issuer,\n",
    "    tls_end_entity_certificate_issuer_common_name,\n",
    "    tls_end_entity_certificate_san_list,\n",
    "    tls_end_entity_certificate_not_valid_after,\n",
    "    tls_end_entity_certificate_not_valid_before,\n",
    "    tls_certificate_chain_length,\n",
    "    tls_failure,\n",
    "    http_request_url,\n",
    "    http_failure,\n",
    "    http_runtime,\n",
    "    probe_analysis,\n",
    "    failure.1 as failure_class,\n",
    "    IF(failure_class = 'ok', 'ok', concat(failure_class, '.', failure_str)) as failure_str_full,\n",
    "    IF(startsWith(failure.2, 'unknown_failure'), 'unknown_failure', failure.2) as failure_str,\n",
    "    failure.2 as failure_str_raw\n",
    "    FROM obs_web\n",
    "    WHERE measurement_start_time > %(measurement_start_day)s\n",
    "    AND measurement_start_time < %(measurement_end_day)s\n",
    "    AND probe_cc IN %(cc_list)s\n",
    "    AND test_name IN %(test_name)s\n",
    "    \"\"\"\n",
    "    if domain is not None:\n",
    "        q += 'AND hostname IN %(domain)s'\n",
    "        sq['domain'] = domain\n",
    "        fn += f'-{domain}'\n",
    "    fn += '.csv'\n",
    "    df_dump = click_query(q, **sq)\n",
    "    df_dump.to_csv(fn, index=False)"
   ]
  },
  {
   "cell_type": "code",
   "execution_count": null,
   "id": "4b8c5932-275c-420d-a36a-2ae613c464c6",
   "metadata": {},
   "outputs": [],
   "source": []
  }
 ],
 "metadata": {
  "kernelspec": {
   "display_name": "Python 3 (ipykernel)",
   "language": "python",
   "name": "python3"
  },
  "language_info": {
   "codemirror_mode": {
    "name": "ipython",
    "version": 3
   },
   "file_extension": ".py",
   "mimetype": "text/x-python",
   "name": "python",
   "nbconvert_exporter": "python",
   "pygments_lexer": "ipython3",
   "version": "3.12.2"
  }
 },
 "nbformat": 4,
 "nbformat_minor": 5
}
