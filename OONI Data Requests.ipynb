{
 "cells": [
  {
   "cell_type": "code",
   "execution_count": 61,
   "metadata": {},
   "outputs": [],
   "source": [
    "import os\n",
    "import yaml\n",
    "from datetime import datetime\n",
    "\n",
    "import pandas as pd\n",
    "import psycopg2\n",
    "from sshtunnel import SSHTunnelForwarder"
   ]
  },
  {
   "cell_type": "code",
   "execution_count": null,
   "metadata": {},
   "outputs": [],
   "source": []
  },
  {
   "cell_type": "code",
   "execution_count": null,
   "metadata": {},
   "outputs": [],
   "source": []
  },
  {
   "cell_type": "code",
   "execution_count": 7,
   "metadata": {},
   "outputs": [],
   "source": [
    "def make_output_path():\n",
    "    return os.path.join(\n",
    "        'exports',\n",
    "        \"{}-{}\".format(\n",
    "            datetime.now().strftime(\"%Y-%m-%dT%H\"),\n",
    "            os.path.basename(EXCEL_FILE_PATH).replace('xlsx', 'csv')\n",
    "        )\n",
    "    )"
   ]
  },
  {
   "cell_type": "code",
   "execution_count": 8,
   "metadata": {},
   "outputs": [],
   "source": [
    "with open('private/secrets.yml') as in_file:\n",
    "    secrets = yaml.load(in_file)"
   ]
  },
  {
   "cell_type": "code",
   "execution_count": 9,
   "metadata": {},
   "outputs": [],
   "source": [
    "def query(q):\n",
    "    with SSHTunnelForwarder(\n",
    "        ('hkgmetadb.infra.ooni.io', 22),\n",
    "        ssh_username='art',\n",
    "        ssh_private_key=secrets['ssh_private_key_path'],\n",
    "        remote_bind_address=('localhost', 5432)\n",
    "    ) as server:\n",
    "        conn = psycopg2.connect(\n",
    "            host='localhost',\n",
    "            port=server.local_bind_port,\n",
    "            user='shovel',\n",
    "            password=secrets['shovel_password'],\n",
    "            dbname='metadb')\n",
    "        return pd.read_sql_query(q, conn)"
   ]
  },
  {
   "cell_type": "code",
   "execution_count": 47,
   "metadata": {},
   "outputs": [],
   "source": [
    "EXCEL_FILE_PATH = \"Data Request UA_2.xlsx\"\n",
    "xls = pd.read_excel(EXCEL_FILE_PATH).reset_index()"
   ]
  },
  {
   "cell_type": "code",
   "execution_count": 48,
   "metadata": {},
   "outputs": [
    {
     "data": {
      "text/html": [
       "<div>\n",
       "<style scoped>\n",
       "    .dataframe tbody tr th:only-of-type {\n",
       "        vertical-align: middle;\n",
       "    }\n",
       "\n",
       "    .dataframe tbody tr th {\n",
       "        vertical-align: top;\n",
       "    }\n",
       "\n",
       "    .dataframe thead th {\n",
       "        text-align: right;\n",
       "    }\n",
       "</style>\n",
       "<table border=\"1\" class=\"dataframe\">\n",
       "  <thead>\n",
       "    <tr style=\"text-align: right;\">\n",
       "      <th></th>\n",
       "      <th>index</th>\n",
       "      <th>Countries</th>\n",
       "      <th>Start date</th>\n",
       "      <th>End Date</th>\n",
       "    </tr>\n",
       "  </thead>\n",
       "  <tbody>\n",
       "    <tr>\n",
       "      <th>0</th>\n",
       "      <td>url</td>\n",
       "      <td>UA</td>\n",
       "      <td>beginning of times</td>\n",
       "      <td>2018-04-15</td>\n",
       "    </tr>\n",
       "    <tr>\n",
       "      <th>1</th>\n",
       "      <td>http://24tv.ua</td>\n",
       "      <td>NaN</td>\n",
       "      <td>NaN</td>\n",
       "      <td>NaT</td>\n",
       "    </tr>\n",
       "    <tr>\n",
       "      <th>2</th>\n",
       "      <td>http://2ch.hk</td>\n",
       "      <td>NaN</td>\n",
       "      <td>NaN</td>\n",
       "      <td>NaT</td>\n",
       "    </tr>\n",
       "    <tr>\n",
       "      <th>3</th>\n",
       "      <td>http://3a-pycb.livejournal.com</td>\n",
       "      <td>NaN</td>\n",
       "      <td>NaN</td>\n",
       "      <td>NaT</td>\n",
       "    </tr>\n",
       "    <tr>\n",
       "      <th>4</th>\n",
       "      <td>http://6ott-mit-uns.livejournal.com</td>\n",
       "      <td>NaN</td>\n",
       "      <td>NaN</td>\n",
       "      <td>NaT</td>\n",
       "    </tr>\n",
       "  </tbody>\n",
       "</table>\n",
       "</div>"
      ],
      "text/plain": [
       "                                 index Countries          Start date  \\\n",
       "0                                  url        UA  beginning of times   \n",
       "1                       http://24tv.ua       NaN                 NaN   \n",
       "2                        http://2ch.hk       NaN                 NaN   \n",
       "3       http://3a-pycb.livejournal.com       NaN                 NaN   \n",
       "4  http://6ott-mit-uns.livejournal.com       NaN                 NaN   \n",
       "\n",
       "    End Date  \n",
       "0 2018-04-15  \n",
       "1        NaT  \n",
       "2        NaT  \n",
       "3        NaT  \n",
       "4        NaT  "
      ]
     },
     "execution_count": 48,
     "metadata": {},
     "output_type": "execute_result"
    }
   ],
   "source": [
    "xls.head()"
   ]
  },
  {
   "cell_type": "code",
   "execution_count": 49,
   "metadata": {},
   "outputs": [],
   "source": [
    "countries = list(map(lambda x: x.strip(), xls.iloc[0]['Countries'].split(',')))\n",
    "start_date = xls.iloc[0]['Start date']\n",
    "end_date = xls.iloc[0]['End Date']\n",
    "urls = list(xls[xls['index'].notnull()]['index'])"
   ]
  },
  {
   "cell_type": "code",
   "execution_count": 50,
   "metadata": {},
   "outputs": [
    {
     "data": {
      "text/plain": [
       "'url'"
      ]
     },
     "execution_count": 50,
     "metadata": {},
     "output_type": "execute_result"
    }
   ],
   "source": [
    "urls.pop(0)"
   ]
  },
  {
   "cell_type": "code",
   "execution_count": 51,
   "metadata": {},
   "outputs": [
    {
     "data": {
      "text/plain": [
       "'beginning of times'"
      ]
     },
     "execution_count": 51,
     "metadata": {},
     "output_type": "execute_result"
    }
   ],
   "source": [
    "start_date"
   ]
  },
  {
   "cell_type": "code",
   "execution_count": 52,
   "metadata": {},
   "outputs": [
    {
     "data": {
      "text/plain": [
       "Timestamp('2018-04-15 00:00:00')"
      ]
     },
     "execution_count": 52,
     "metadata": {},
     "output_type": "execute_result"
    }
   ],
   "source": [
    "end_date"
   ]
  },
  {
   "cell_type": "code",
   "execution_count": 53,
   "metadata": {},
   "outputs": [],
   "source": [
    "base_query = \"\"\"SELECT measurement.test_runtime,\n",
    "input.input,\n",
    "measurement.measurement_start_time,\n",
    "report.probe_cc,\n",
    "report.probe_asn,\n",
    "report.probe_ip,\n",
    "report.report_id,\n",
    "http_verdict.http_experiment_failure,\n",
    "http_verdict.blocking\n",
    "FROM measurement \n",
    "JOIN input ON input.input_no = measurement.input_no \n",
    "JOIN report ON report.report_no = measurement.report_no\n",
    "JOIN http_verdict ON http_verdict.msm_no = measurement.msm_no\n",
    "\"\"\"\n",
    "where_clause = \"WHERE ({}) AND ({})\".format(\n",
    "    \" OR \".join(list(map(lambda x: \"report.probe_cc = '{}'\".format(x), countries))),\n",
    "    \" OR \".join(list(map(lambda x: \"input = '{}'\".format(x), urls))),\n",
    ")"
   ]
  },
  {
   "cell_type": "code",
   "execution_count": 54,
   "metadata": {},
   "outputs": [],
   "source": [
    "rows = query(base_query + where_clause)"
   ]
  },
  {
   "cell_type": "code",
   "execution_count": null,
   "metadata": {},
   "outputs": [],
   "source": []
  },
  {
   "cell_type": "code",
   "execution_count": 18,
   "metadata": {},
   "outputs": [],
   "source": [
    "rows[\n",
    "    (rows['measurement_start_time'] < end_date)\n",
    "].to_csv(make_output_path())"
   ]
  },
  {
   "cell_type": "code",
   "execution_count": 56,
   "metadata": {},
   "outputs": [],
   "source": [
    "rows.to_csv(make_output_path())"
   ]
  },
  {
   "cell_type": "code",
   "execution_count": null,
   "metadata": {},
   "outputs": [],
   "source": []
  },
  {
   "cell_type": "code",
   "execution_count": null,
   "metadata": {},
   "outputs": [],
   "source": []
  }
 ],
 "metadata": {
  "kernelspec": {
   "display_name": "Python 3",
   "language": "python",
   "name": "python3"
  },
  "language_info": {
   "codemirror_mode": {
    "name": "ipython",
    "version": 3
   },
   "file_extension": ".py",
   "mimetype": "text/x-python",
   "name": "python",
   "nbconvert_exporter": "python",
   "pygments_lexer": "ipython3",
   "version": "3.6.1"
  }
 },
 "nbformat": 4,
 "nbformat_minor": 2
}
