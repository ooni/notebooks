{
 "cells": [
  {
   "cell_type": "code",
   "execution_count": 76,
   "metadata": {},
   "outputs": [],
   "source": [
    "import os\n",
    "import io\n",
    "import yaml\n",
    "import json\n",
    "from datetime import datetime, timedelta\n",
    "\n",
    "import pandas as pd\n",
    "import psycopg2\n",
    "from sshtunnel import SSHTunnelForwarder\n",
    "import boto3"
   ]
  },
  {
   "cell_type": "code",
   "execution_count": 22,
   "metadata": {},
   "outputs": [],
   "source": [
    "with open('private/secrets.yml') as in_file:\n",
    "    secrets = yaml.load(in_file)"
   ]
  },
  {
   "cell_type": "code",
   "execution_count": 23,
   "metadata": {},
   "outputs": [],
   "source": [
    "s3 = boto3.resource('s3',\n",
    "    aws_access_key_id=secrets['aws_access_key'],\n",
    "    aws_secret_access_key=secrets['aws_secret_access_key'],\n",
    ")"
   ]
  },
  {
   "cell_type": "code",
   "execution_count": 3,
   "metadata": {},
   "outputs": [],
   "source": [
    "def query(q):\n",
    "    with SSHTunnelForwarder(\n",
    "        ('hkgmetadb.infra.ooni.io', 22),\n",
    "        ssh_username='art',\n",
    "        ssh_private_key=secrets['ssh_private_key_path'],\n",
    "        remote_bind_address=('localhost', 5432)\n",
    "    ) as server:\n",
    "        conn = psycopg2.connect(\n",
    "            host='localhost',\n",
    "            port=server.local_bind_port,\n",
    "            user='shovel',\n",
    "            password=secrets['shovel_password'],\n",
    "            dbname='metadb')\n",
    "        return pd.read_sql_query(q, conn)"
   ]
  },
  {
   "cell_type": "markdown",
   "metadata": {},
   "source": [
    "# Required metrics\n",
    "\n",
    "\n",
    "### Homepage overview\n",
    "\n",
    "* Total number of measurements collected (see: `msmt_count`)\n",
    "* Total number of countries covered by measurements (see: `country_count`)\n",
    "* Total number of networks covered by measurements (see: `network_count`)\n",
    "\n",
    "XXX we may want to derive these metrics via the metrics we compute as part of the country pages\n",
    "\n",
    "## Country page\n",
    "\n",
    "* Overall number of measurements for this country (see: `counts_by_country`)\n",
    "* Overall number of networks covered by measurements (see: `network_count_by_country`)\n",
    "* Number of networks on which we found a middlebox (MISSING-EXTRACTOR)\n",
    "* If Instant Messagging apps may be blocked (MISSING-EXTRACTOR)\n",
    "* If circumvention tools may be blocked (MISSING-EXTRACTOR)\n",
    "* The number of blocked sites per category (we have the extractor, but we don't have the category codes)\n",
    "* Daily measurement count per nettest group (see: `get_30day_measurement_count()`)\n",
    "* Daily network count per nettest group (see: `get_30day_test_group_count_by_network()`)\n",
    "\n",
    "### Performance\n",
    "\n",
    "* Median upload speed (MISSING-EXTRACTOR)\n",
    "* Median upload speed (MISSING-EXTRACTOR)\n",
    "\n",
    "### Instant Messaging\n",
    "\n",
    "For each app (`whatsapp`, `telegram`, `facebook_messenger`) **and network**:\n",
    "\n",
    "* Number of measurements\n",
    "* App status verdict (MISSING-EXTRACTOR)\n",
    "* Timestamp of the last test\n",
    "\n",
    "### Middleboxes\n",
    "\n",
    "List of networks tested and for each:\n",
    "* Number of measurements\n",
    "* If we found a middlebox (MISSING-EXTRACTOR)\n",
    "* Timestamp of the last test\n",
    "\n",
    "### Websites\n",
    "\n",
    "List of URLs that were tested and for each:\n",
    "\n",
    "* Category code\n",
    "* Number of measurements showing blocking\n",
    "* Number of measurements showing an anomaly\n",
    "* Overall number of measurements\n",
    "* Timestamp of the last test\n",
    "\n",
    "XXX we may want to have the window of this be adjustable."
   ]
  },
  {
   "cell_type": "code",
   "execution_count": 5,
   "metadata": {},
   "outputs": [
    {
     "name": "stdout",
     "output_type": "stream",
     "text": [
      "CPU times: user 514 ms, sys: 291 ms, total: 805 ms\n",
      "Wall time: 8min 2s\n"
     ]
    }
   ],
   "source": [
    "%%time\n",
    "msmt_count = query(\"SELECT COUNT(msm_no) FROM measurement;\")"
   ]
  },
  {
   "cell_type": "code",
   "execution_count": null,
   "metadata": {},
   "outputs": [],
   "source": []
  },
  {
   "cell_type": "code",
   "execution_count": 17,
   "metadata": {},
   "outputs": [
    {
     "name": "stdout",
     "output_type": "stream",
     "text": [
      "CPU times: user 37.7 ms, sys: 9.69 ms, total: 47.4 ms\n",
      "Wall time: 13.2 s\n"
     ]
    }
   ],
   "source": [
    "%%time\n",
    "country_count = query(\"SELECT COUNT(DISTINCT probe_cc) FROM report;\")"
   ]
  },
  {
   "cell_type": "code",
   "execution_count": null,
   "metadata": {},
   "outputs": [],
   "source": []
  },
  {
   "cell_type": "code",
   "execution_count": 18,
   "metadata": {},
   "outputs": [
    {
     "name": "stdout",
     "output_type": "stream",
     "text": [
      "CPU times: user 31.4 ms, sys: 7.23 ms, total: 38.7 ms\n",
      "Wall time: 5.69 s\n"
     ]
    }
   ],
   "source": [
    "%%time\n",
    "network_count = query(\"SELECT COUNT(DISTINCT probe_asn) FROM report;\")"
   ]
  },
  {
   "cell_type": "code",
   "execution_count": 29,
   "metadata": {},
   "outputs": [],
   "source": [
    "obj = {\n",
    "    'measurement_count': int(msmt_count['count'].iloc[0]),\n",
    "    'country_count': int(country_count['count'].iloc[0]),\n",
    "    'network_count': int(network_count['count'].iloc[0]),\n",
    "}"
   ]
  },
  {
   "cell_type": "code",
   "execution_count": 36,
   "metadata": {},
   "outputs": [],
   "source": [
    "with open('exports/homepage-overview.json', 'w') as out_file:\n",
    "    json.dump(obj, out_file)"
   ]
  },
  {
   "cell_type": "code",
   "execution_count": 38,
   "metadata": {},
   "outputs": [
    {
     "data": {
      "text/plain": [
       "s3.Object(bucket_name='ooni-explorer', key='static/homepage-overview.json')"
      ]
     },
     "execution_count": 38,
     "metadata": {},
     "output_type": "execute_result"
    }
   ],
   "source": [
    "s3.Bucket('ooni-explorer').put_object(\n",
    "    Key='static/homepage-overview.json',\n",
    "    Body=open('exports/homepage-overview.json', 'rb')\n",
    ")"
   ]
  },
  {
   "cell_type": "code",
   "execution_count": 39,
   "metadata": {},
   "outputs": [
    {
     "name": "stdout",
     "output_type": "stream",
     "text": [
      "CPU times: user 25.5 ms, sys: 8.57 ms, total: 34.1 ms\n",
      "Wall time: 6.03 s\n"
     ]
    }
   ],
   "source": [
    "%%time\n",
    "country_list = query(\"SELECT DISTINCT probe_cc FROM report;\")"
   ]
  },
  {
   "cell_type": "code",
   "execution_count": 41,
   "metadata": {},
   "outputs": [
    {
     "name": "stdout",
     "output_type": "stream",
     "text": [
      "CPU times: user 383 ms, sys: 186 ms, total: 570 ms\n",
      "Wall time: 7min 51s\n"
     ]
    }
   ],
   "source": [
    "%%time\n",
    "counts_by_country = query(\"\"\"SELECT\n",
    "\tCOUNT(msm_no) as msmt_count,\n",
    "\tprobe_cc\n",
    "FROM measurement \n",
    "JOIN report ON report.report_no = measurement.report_no\n",
    "GROUP BY probe_cc;\n",
    "\"\"\")"
   ]
  },
  {
   "cell_type": "code",
   "execution_count": 43,
   "metadata": {},
   "outputs": [
    {
     "name": "stdout",
     "output_type": "stream",
     "text": [
      "CPU times: user 52.2 ms, sys: 18.4 ms, total: 70.6 ms\n",
      "Wall time: 40.2 s\n"
     ]
    }
   ],
   "source": [
    "%%time\n",
    "network_count_by_country = query(\"\"\"SELECT\n",
    "\tCOUNT(DISTINCT probe_asn) as network_count,\n",
    "\tprobe_cc\n",
    "FROM report\n",
    "GROUP BY probe_cc;\"\"\")"
   ]
  },
  {
   "cell_type": "code",
   "execution_count": 45,
   "metadata": {},
   "outputs": [
    {
     "name": "stdout",
     "output_type": "stream",
     "text": [
      "CPU times: user 534 ms, sys: 269 ms, total: 804 ms\n",
      "Wall time: 8min 49s\n"
     ]
    }
   ],
   "source": []
  },
  {
   "cell_type": "code",
   "execution_count": 84,
   "metadata": {},
   "outputs": [],
   "source": []
  },
  {
   "cell_type": "code",
   "execution_count": null,
   "metadata": {},
   "outputs": [],
   "source": [
    "# This window should be adjusted in function of how long it takes the pipeline to process measurements\n",
    "start_date = (datetime.utcnow() - timedelta(days=30) - timedelta(hours=48)).strftime('%Y-%m-%d')\n",
    "end_date = (datetime.utcnow() - timedelta(hours=48)).strftime('%Y-%m-%d')"
   ]
  },
  {
   "cell_type": "code",
   "execution_count": 106,
   "metadata": {},
   "outputs": [
    {
     "name": "stdout",
     "output_type": "stream",
     "text": [
      "interval: 2018-05-06 - 2018-06-05\n"
     ]
    }
   ],
   "source": [
    "print('interval: {} - {}'.format(start_date, end_date))"
   ]
  },
  {
   "cell_type": "code",
   "execution_count": 64,
   "metadata": {},
   "outputs": [
    {
     "name": "stdout",
     "output_type": "stream",
     "text": [
      "CPU times: user 1.07 s, sys: 556 ms, total: 1.62 s\n",
      "Wall time: 14min 22s\n"
     ]
    }
   ],
   "source": [
    "%%time\n",
    "pipeline_30day_window = \"\"\"\n",
    "test_start_time >= {start_date}\n",
    "AND test_start_time <= {end_date}\n",
    "\"\"\".format(start_date=start_date, end_date=end_date)\n",
    "\n",
    "test_count_30days = query(\"\"\"\n",
    "SELECT\n",
    "    COUNT(msm_no) as msmt_count,\n",
    "    probe_cc,\n",
    "    probe_asn,\n",
    "    test_name,\n",
    "    date_trunc('day', test_start_time) as test_day\n",
    "FROM measurement \n",
    "JOIN report ON report.report_no = measurement.report_no\n",
    "WHERE {}\n",
    "GROUP BY probe_cc, probe_asn, test_name, test_day;\"\"\".format(pipeline_30day_window))"
   ]
  },
  {
   "cell_type": "code",
   "execution_count": 241,
   "metadata": {},
   "outputs": [
    {
     "name": "stdout",
     "output_type": "stream",
     "text": [
      "CPU times: user 54.3 ms, sys: 52.5 ms, total: 107 ms\n",
      "Wall time: 16.4 s\n"
     ]
    }
   ],
   "source": [
    "%%time\n",
    "confirmed_blocked_sites = query(\"\"\"SELECT DISTINCT input,\n",
    "probe_cc\n",
    " FROM measurement \n",
    "JOIN input ON input.input_no = measurement.input_no \n",
    "JOIN report ON report.report_no = measurement.report_no\n",
    "WHERE confirmed = true\n",
    "GROUP BY probe_cc, input;\n",
    "\"\"\")"
   ]
  },
  {
   "cell_type": "code",
   "execution_count": 98,
   "metadata": {},
   "outputs": [],
   "source": []
  },
  {
   "cell_type": "code",
   "execution_count": 171,
   "metadata": {},
   "outputs": [],
   "source": [
    "test_names = [\n",
    "    # instant_messaging\n",
    "    'facebook_messenger',\n",
    "    'whatsapp',\n",
    "    'telegram',\n",
    "\n",
    "    # middleboxes\n",
    "    'http_header_field_manipulation',\n",
    "    'http_invalid_request_line',\n",
    "    \n",
    "    # performance\n",
    "    'dash',\n",
    "    'ndt',\n",
    "    \n",
    "    # websites\n",
    "    'web_connectivity',\n",
    "    \n",
    "    # circumvention\n",
    "    'vanilla_tor',\n",
    "\n",
    "    # Other\n",
    "    'http_requests',\n",
    "    'meek_fronted_requests_test',\n",
    "    'multi_protocol_traceroute',\n",
    "    'tcp_connect'\n",
    "]\n",
    "test_groups = {\n",
    "    # instant_messaging\n",
    "    'facebook_messenger': 'instant_messaging',\n",
    "    'whatsapp': 'instant_messaging',\n",
    "    'telegram': 'instant_messaging',\n",
    "\n",
    "    # middleboxes\n",
    "    'http_header_field_manipulation': 'middleboxes',\n",
    "    'http_invalid_request_line': 'middleboxes',\n",
    "    \n",
    "    # performance\n",
    "    'dash': 'performance',\n",
    "    'ndt': 'performance',\n",
    "    \n",
    "    # websites\n",
    "    'web_connectivity': 'websites',\n",
    "    \n",
    "    # circumvention\n",
    "    'vanilla_tor': 'circumvention',\n",
    "\n",
    "    # other\n",
    "    'http_requests': 'other',\n",
    "    'meek_fronted_requests_test': 'other',\n",
    "    'multi_protocol_traceroute': 'other',\n",
    "    'tcp_connect': 'other'\n",
    "}"
   ]
  },
  {
   "cell_type": "code",
   "execution_count": null,
   "metadata": {},
   "outputs": [],
   "source": []
  },
  {
   "cell_type": "code",
   "execution_count": null,
   "metadata": {},
   "outputs": [],
   "source": []
  },
  {
   "cell_type": "code",
   "execution_count": 189,
   "metadata": {},
   "outputs": [],
   "source": [
    "\n"
   ]
  },
  {
   "cell_type": "code",
   "execution_count": 208,
   "metadata": {},
   "outputs": [],
   "source": []
  },
  {
   "cell_type": "code",
   "execution_count": null,
   "metadata": {},
   "outputs": [],
   "source": []
  },
  {
   "cell_type": "code",
   "execution_count": null,
   "metadata": {},
   "outputs": [],
   "source": []
  },
  {
   "cell_type": "code",
   "execution_count": null,
   "metadata": {},
   "outputs": [],
   "source": []
  },
  {
   "cell_type": "code",
   "execution_count": null,
   "metadata": {},
   "outputs": [],
   "source": []
  },
  {
   "cell_type": "code",
   "execution_count": null,
   "metadata": {},
   "outputs": [],
   "source": []
  },
  {
   "cell_type": "code",
   "execution_count": null,
   "metadata": {},
   "outputs": [],
   "source": [
    "def get_blocked_websites():\n",
    "    pass"
   ]
  },
  {
   "cell_type": "code",
   "execution_count": 238,
   "metadata": {},
   "outputs": [],
   "source": [
    "def get_30day_measurement_count(probe_cc, start_date=start_date, end_date=end_date):\n",
    "    df = test_count_30days[test_count_30days['probe_cc'] == probe_cc].copy()\n",
    "\n",
    "    if df.size > 0:\n",
    "        # Add the test_group column\n",
    "        df['test_group'] = df.apply(lambda x: test_groups.get(x['test_name'], 'other'), axis=1)\n",
    "    else:\n",
    "        # Just add an empty column when we have now rows\n",
    "        df['test_group'] = 0\n",
    "    # We count the number of measurements every day for every test_group\n",
    "    df = df.sort_values(by='test_day')[['test_group', 'test_day', 'msmt_count']]\\\n",
    "        .groupby(['test_group', 'test_day']).sum()\n",
    "    # We ensure the time interval index has no \"holes\" by reindexing it based on the start and end_date\n",
    "    df = df.unstack(level=0)\\\n",
    "        .reindex(pd.date_range(start=start_date, end=end_date))\n",
    "\n",
    "    # Remove the multi-index from the columns\n",
    "    df.columns = df.columns.droplevel()\n",
    "    test_group_names = list(set(test_groups.values()))\n",
    "    # Reindex the columns as well to ensure we don't have any missing column\n",
    "    return df.reindex(columns=test_group_names).fillna(0)"
   ]
  },
  {
   "cell_type": "code",
   "execution_count": 239,
   "metadata": {},
   "outputs": [],
   "source": [
    "def get_30day_test_group_count_by_network(probe_cc, start_date=start_date, end_date=end_date):\n",
    "    df = test_count_30days[test_count_30days['probe_cc'] == probe_cc].copy()\n",
    "    \n",
    "    if df.size > 0:\n",
    "        # Add the test_group column\n",
    "        df['test_group'] = df.apply(lambda x: test_groups.get(x['test_name'], 'other'), axis=1)\n",
    "    else:\n",
    "        # Just add an empty column when we have now rows\n",
    "        df['test_group'] = 0\n",
    "    # We count the number of networks covered every day for every test_name\n",
    "    df = df.sort_values(by='test_day')[['test_group', 'test_day', 'probe_asn']]\\\n",
    "            .groupby(['test_group', 'test_day']).count()\n",
    "\n",
    "    # We ensure the time interval index has no \"holes\" by reindexing it based on the start and end_date\n",
    "    df = df.unstack(level=0)\\\n",
    "        .reindex(pd.date_range(start=start_date, end=end_date))\n",
    "    \n",
    "    # Remove the multi-index from the columns\n",
    "    df.columns = df.columns.droplevel()\n",
    "    test_group_names = list(set(test_groups.values()))\n",
    "    # Reindex the columns as well to ensure we don't have any missing column\n",
    "    return df.reindex(columns=test_group_names).fillna(0)"
   ]
  },
  {
   "cell_type": "code",
   "execution_count": null,
   "metadata": {},
   "outputs": [],
   "source": []
  },
  {
   "cell_type": "code",
   "execution_count": null,
   "metadata": {},
   "outputs": [],
   "source": []
  },
  {
   "cell_type": "code",
   "execution_count": null,
   "metadata": {},
   "outputs": [],
   "source": []
  },
  {
   "cell_type": "code",
   "execution_count": null,
   "metadata": {},
   "outputs": [],
   "source": []
  },
  {
   "cell_type": "code",
   "execution_count": null,
   "metadata": {},
   "outputs": [],
   "source": []
  },
  {
   "cell_type": "code",
   "execution_count": null,
   "metadata": {},
   "outputs": [],
   "source": []
  },
  {
   "cell_type": "code",
   "execution_count": 240,
   "metadata": {},
   "outputs": [],
   "source": [
    "for probe_cc in list(country_list['probe_cc']):\n",
    "    dst_dir = os.path.join('exports', 'explorer', probe_cc)\n",
    "    try:\n",
    "        os.makedirs(dst_dir)\n",
    "    except:\n",
    "        # Ignore existing\n",
    "        pass\n",
    "    try:\n",
    "        get_30day_test_group_count_by_network(probe_cc).to_json(\n",
    "            os.path.join(dst_dir, 'test_group_count_by_network_30days-{}.json'.format(probe_cc)),\n",
    "            date_format='iso'\n",
    "        )\n",
    "        get_30day_measurement_count(probe_cc).to_json(\n",
    "            os.path.join(dst_dir, 'measurement_count_30days-{}.json'.format(probe_cc)),\n",
    "            date_format='iso'\n",
    "        )\n",
    "    except Exception as exc:\n",
    "        print(probe_cc)\n",
    "        raise exc"
   ]
  },
  {
   "cell_type": "code",
   "execution_count": null,
   "metadata": {},
   "outputs": [],
   "source": []
  },
  {
   "cell_type": "code",
   "execution_count": null,
   "metadata": {},
   "outputs": [],
   "source": []
  },
  {
   "cell_type": "code",
   "execution_count": null,
   "metadata": {},
   "outputs": [],
   "source": []
  },
  {
   "cell_type": "code",
   "execution_count": null,
   "metadata": {},
   "outputs": [],
   "source": []
  },
  {
   "cell_type": "code",
   "execution_count": null,
   "metadata": {},
   "outputs": [],
   "source": []
  },
  {
   "cell_type": "code",
   "execution_count": null,
   "metadata": {},
   "outputs": [],
   "source": []
  }
 ],
 "metadata": {
  "kernelspec": {
   "display_name": "Python 3",
   "language": "python",
   "name": "python3"
  },
  "language_info": {
   "codemirror_mode": {
    "name": "ipython",
    "version": 3
   },
   "file_extension": ".py",
   "mimetype": "text/x-python",
   "name": "python",
   "nbconvert_exporter": "python",
   "pygments_lexer": "ipython3",
   "version": "3.6.1"
  }
 },
 "nbformat": 4,
 "nbformat_minor": 2
}
